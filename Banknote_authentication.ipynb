{
  "nbformat": 4,
  "nbformat_minor": 0,
  "metadata": {
    "colab": {
      "name": "Banknote authentication.ipynb",
      "provenance": [],
      "collapsed_sections": [],
      "authorship_tag": "ABX9TyNB4w0UeHld6JveeeuDPypg",
      "include_colab_link": true
    },
    "kernelspec": {
      "name": "python3",
      "display_name": "Python 3"
    }
  },
  "cells": [
    {
      "cell_type": "markdown",
      "metadata": {
        "id": "view-in-github",
        "colab_type": "text"
      },
      "source": [
        "<a href=\"https://colab.research.google.com/github/Aditya-Singla/Banknote-Authentication/blob/master/Banknote_authentication.ipynb\" target=\"_parent\"><img src=\"https://colab.research.google.com/assets/colab-badge.svg\" alt=\"Open In Colab\"/></a>"
      ]
    },
    {
      "cell_type": "markdown",
      "metadata": {
        "id": "P4abaCZcec6P",
        "colab_type": "text"
      },
      "source": [
        "**Importing the libraries**"
      ]
    },
    {
      "cell_type": "code",
      "metadata": {
        "id": "RtHdtyHregYi",
        "colab_type": "code",
        "colab": {}
      },
      "source": [
        "import pandas as pd\n",
        "import numpy as np"
      ],
      "execution_count": 0,
      "outputs": []
    },
    {
      "cell_type": "markdown",
      "metadata": {
        "id": "3E-BhrsAelZs",
        "colab_type": "text"
      },
      "source": [
        "**Uploading the dataset**"
      ]
    },
    {
      "cell_type": "code",
      "metadata": {
        "id": "JrEGL9M6eoEp",
        "colab_type": "code",
        "colab": {}
      },
      "source": [
        "dataset = pd.read_csv('Bank note authentication.csv')\n",
        "X = dataset.iloc[:,:-1].values\n",
        "y = dataset.iloc[:,-1].values\n",
        "\n"
      ],
      "execution_count": 0,
      "outputs": []
    },
    {
      "cell_type": "markdown",
      "metadata": {
        "id": "UaxoNCASg4_c",
        "colab_type": "text"
      },
      "source": [
        "**No missing values** (*as specified by the source* https://archive.ics.uci.edu/ml/datasets/banknote+authentication )"
      ]
    },
    {
      "cell_type": "markdown",
      "metadata": {
        "id": "EmaYjqekfqwl",
        "colab_type": "text"
      },
      "source": [
        "**Splitting the dataset into training set and test set**"
      ]
    },
    {
      "cell_type": "code",
      "metadata": {
        "id": "Ioe1SQ9Of1SZ",
        "colab_type": "code",
        "colab": {}
      },
      "source": [
        "from sklearn.model_selection import train_test_split\n",
        "x_train, x_test, y_train, y_test = train_test_split(X, y, test_size =0.2, random_state =0 )"
      ],
      "execution_count": 0,
      "outputs": []
    },
    {
      "cell_type": "markdown",
      "metadata": {
        "id": "opRhb4eRqZqy",
        "colab_type": "text"
      },
      "source": [
        "*Checking* training and test sets"
      ]
    },
    {
      "cell_type": "code",
      "metadata": {
        "id": "I9CW1q3xqcx3",
        "colab_type": "code",
        "outputId": "acd47946-7c31-41cd-acf3-22bb951ed744",
        "colab": {
          "base_uri": "https://localhost:8080/",
          "height": 134
        }
      },
      "source": [
        "print(x_train)"
      ],
      "execution_count": 4,
      "outputs": [
        {
          "output_type": "stream",
          "text": [
            "[[-3.0866  -6.6362  10.5405  -0.89182]\n",
            " [-0.40857  3.0977  -2.9607  -2.6892 ]\n",
            " [-1.5228  -6.4789   5.7568   0.87325]\n",
            " ...\n",
            " [ 0.61652  3.8944  -4.7275  -4.3948 ]\n",
            " [ 4.0446  11.1741  -4.3582  -4.7401 ]\n",
            " [ 4.0715   7.6398  -2.0824  -1.1698 ]]\n"
          ],
          "name": "stdout"
        }
      ]
    },
    {
      "cell_type": "code",
      "metadata": {
        "id": "jh4UwOd6qgUI",
        "colab_type": "code",
        "outputId": "8f5f0c65-b3b6-4629-dd6c-54a8f45eb1ab",
        "colab": {
          "base_uri": "https://localhost:8080/",
          "height": 34
        }
      },
      "source": [
        "print(y_train)"
      ],
      "execution_count": 5,
      "outputs": [
        {
          "output_type": "stream",
          "text": [
            "[1 1 1 ... 1 0 0]\n"
          ],
          "name": "stdout"
        }
      ]
    },
    {
      "cell_type": "code",
      "metadata": {
        "id": "RfrQnx_gqmqZ",
        "colab_type": "code",
        "outputId": "ddf74ee6-64c1-46b2-a38c-705dc8e6da53",
        "colab": {
          "base_uri": "https://localhost:8080/",
          "height": 134
        }
      },
      "source": [
        "print(x_test)"
      ],
      "execution_count": 6,
      "outputs": [
        {
          "output_type": "stream",
          "text": [
            "[[ 4.05450e-03  6.29050e-01 -6.41210e-01  7.58170e-01]\n",
            " [ 5.13210e+00 -3.10480e-02  3.26160e-01  1.11510e+00]\n",
            " [-3.50600e+00 -1.25667e+01  1.51606e+01 -7.52160e-01]\n",
            " ...\n",
            " [-3.48100e-01 -3.86960e-01 -4.78410e-01  6.26270e-01]\n",
            " [-2.96720e+00 -1.32869e+01  1.34727e+01 -2.62710e+00]\n",
            " [-4.36670e+00  6.06920e+00  5.72080e-01 -5.46680e+00]]\n"
          ],
          "name": "stdout"
        }
      ]
    },
    {
      "cell_type": "code",
      "metadata": {
        "id": "bNCHhVk8tvir",
        "colab_type": "code",
        "outputId": "df92a1f4-8abf-4256-e384-3406fccd3d7f",
        "colab": {
          "base_uri": "https://localhost:8080/",
          "height": 151
        }
      },
      "source": [
        "print(y_test)"
      ],
      "execution_count": 7,
      "outputs": [
        {
          "output_type": "stream",
          "text": [
            "[1 0 1 0 0 0 0 0 1 1 0 0 1 0 0 0 1 1 0 0 1 0 0 1 0 0 0 1 0 0 1 0 1 0 0 0 0\n",
            " 1 0 0 1 1 0 0 1 1 0 0 1 0 1 1 0 1 1 0 1 0 0 1 1 0 0 0 0 1 1 1 1 0 1 0 1 1\n",
            " 0 1 0 0 0 0 0 0 0 0 1 1 0 0 0 0 0 1 1 1 1 1 0 0 1 0 0 1 0 0 0 1 0 1 1 1 0\n",
            " 1 1 0 1 0 0 0 1 1 0 0 0 1 1 1 1 0 1 0 0 0 1 0 0 1 0 0 0 0 1 0 0 1 0 0 1 0\n",
            " 0 1 0 0 1 0 1 0 0 0 1 0 0 1 0 1 0 1 1 0 1 1 0 1 1 1 1 0 0 0 1 1 0 0 0 0 0\n",
            " 1 0 1 1 0 0 0 1 0 1 0 0 0 1 1 0 0 0 0 1 0 0 0 1 0 1 1 1 0 0 1 1 0 0 1 0 0\n",
            " 0 0 0 1 1 0 0 0 0 0 0 0 1 1 0 0 1 1 0 1 1 0 1 0 1 0 0 0 0 0 1 1 1 0 0 1 1\n",
            " 1 0 0 0 1 0 0 1 1 0 1 0 0 1 1 1]\n"
          ],
          "name": "stdout"
        }
      ]
    },
    {
      "cell_type": "code",
      "metadata": {
        "id": "G53l9v7kqp-f",
        "colab_type": "code",
        "outputId": "8d6e7c9f-2916-4f6d-947a-ee205cd0719a",
        "colab": {
          "base_uri": "https://localhost:8080/",
          "height": 151
        }
      },
      "source": [
        "print(y_test)"
      ],
      "execution_count": 8,
      "outputs": [
        {
          "output_type": "stream",
          "text": [
            "[1 0 1 0 0 0 0 0 1 1 0 0 1 0 0 0 1 1 0 0 1 0 0 1 0 0 0 1 0 0 1 0 1 0 0 0 0\n",
            " 1 0 0 1 1 0 0 1 1 0 0 1 0 1 1 0 1 1 0 1 0 0 1 1 0 0 0 0 1 1 1 1 0 1 0 1 1\n",
            " 0 1 0 0 0 0 0 0 0 0 1 1 0 0 0 0 0 1 1 1 1 1 0 0 1 0 0 1 0 0 0 1 0 1 1 1 0\n",
            " 1 1 0 1 0 0 0 1 1 0 0 0 1 1 1 1 0 1 0 0 0 1 0 0 1 0 0 0 0 1 0 0 1 0 0 1 0\n",
            " 0 1 0 0 1 0 1 0 0 0 1 0 0 1 0 1 0 1 1 0 1 1 0 1 1 1 1 0 0 0 1 1 0 0 0 0 0\n",
            " 1 0 1 1 0 0 0 1 0 1 0 0 0 1 1 0 0 0 0 1 0 0 0 1 0 1 1 1 0 0 1 1 0 0 1 0 0\n",
            " 0 0 0 1 1 0 0 0 0 0 0 0 1 1 0 0 1 1 0 1 1 0 1 0 1 0 0 0 0 0 1 1 1 0 0 1 1\n",
            " 1 0 0 0 1 0 0 1 1 0 1 0 0 1 1 1]\n"
          ],
          "name": "stdout"
        }
      ]
    },
    {
      "cell_type": "markdown",
      "metadata": {
        "id": "P8wX5YPmlq9X",
        "colab_type": "text"
      },
      "source": [
        "**Feature Scaling** (**NOT** required for the *independent variable*)"
      ]
    },
    {
      "cell_type": "code",
      "metadata": {
        "id": "-8BKfKfUlwep",
        "colab_type": "code",
        "colab": {}
      },
      "source": [
        "from sklearn.preprocessing import StandardScaler\n",
        "x_sc = StandardScaler()\n",
        "\n",
        "x_train_sc = x_sc.fit_transform(x_train)\n",
        "x_test_sc = x_sc.fit_transform(x_test)"
      ],
      "execution_count": 0,
      "outputs": []
    },
    {
      "cell_type": "markdown",
      "metadata": {
        "id": "yagvL0AXq6qS",
        "colab_type": "text"
      },
      "source": [
        "*Checking* feature scaling"
      ]
    },
    {
      "cell_type": "code",
      "metadata": {
        "id": "gjXP219nq9v-",
        "colab_type": "code",
        "outputId": "da8358b7-a694-4a00-d16a-b13c5923b66b",
        "colab": {
          "base_uri": "https://localhost:8080/",
          "height": 134
        }
      },
      "source": [
        "print(x_train_sc)"
      ],
      "execution_count": 10,
      "outputs": [
        {
          "output_type": "stream",
          "text": [
            "[[-1.23838989 -1.43420372  2.11416802  0.13992458]\n",
            " [-0.28386987  0.2164033  -1.02333768 -0.71665709]\n",
            " [-0.68101062 -1.40752988  1.0024975   0.9811082 ]\n",
            " ...\n",
            " [ 0.08149905  0.35150214 -1.43391934 -1.52949895]\n",
            " [ 1.30335653  1.58594301 -1.34809875 -1.69405939]\n",
            " [ 1.3129444   0.98662101 -0.81923202  0.00744699]]\n"
          ],
          "name": "stdout"
        }
      ]
    },
    {
      "cell_type": "markdown",
      "metadata": {
        "id": "_pyGbNoZgjaY",
        "colab_type": "text"
      },
      "source": [
        "**Logistic Regression**"
      ]
    },
    {
      "cell_type": "code",
      "metadata": {
        "id": "SuSSNRzRnTy_",
        "colab_type": "code",
        "colab": {}
      },
      "source": [
        "from sklearn.linear_model import LogisticRegression\n",
        "classifier_lr = LogisticRegression(random_state=0)\n",
        "classifier_lr.fit(x_train_sc,y_train)\n",
        "\n",
        "y_predict_lr = classifier_lr.predict(x_test_sc)\n"
      ],
      "execution_count": 0,
      "outputs": []
    },
    {
      "cell_type": "markdown",
      "metadata": {
        "id": "l4PSMWR8r6en",
        "colab_type": "text"
      },
      "source": [
        "**Evaluating** Logistic Regeression "
      ]
    },
    {
      "cell_type": "code",
      "metadata": {
        "id": "r_yWAysVr-5Q",
        "colab_type": "code",
        "outputId": "d30cb52a-700d-4c20-e592-88ddd1ca6264",
        "colab": {
          "base_uri": "https://localhost:8080/",
          "height": 67
        }
      },
      "source": [
        "from sklearn.metrics import confusion_matrix, accuracy_score, roc_auc_score\n",
        "cm_lr = confusion_matrix(y_test,y_predict_lr)\n",
        "print(cm_lr)\n",
        "accuracy_score(y_test,y_predict_lr)\n"
      ],
      "execution_count": 12,
      "outputs": [
        {
          "output_type": "stream",
          "text": [
            "[[154   6]\n",
            " [  0 115]]\n"
          ],
          "name": "stdout"
        },
        {
          "output_type": "execute_result",
          "data": {
            "text/plain": [
              "0.9781818181818182"
            ]
          },
          "metadata": {
            "tags": []
          },
          "execution_count": 12
        }
      ]
    },
    {
      "cell_type": "code",
      "metadata": {
        "id": "DO9v4V9B_rNS",
        "colab_type": "code",
        "outputId": "96d609b1-780e-4ef8-b30c-f7d4d9bd6633",
        "colab": {
          "base_uri": "https://localhost:8080/",
          "height": 34
        }
      },
      "source": [
        "auc_score_lr = roc_auc_score(y_test,y_predict_lr)\n",
        "print(auc_score_lr)"
      ],
      "execution_count": 13,
      "outputs": [
        {
          "output_type": "stream",
          "text": [
            "0.9812500000000001\n"
          ],
          "name": "stdout"
        }
      ]
    },
    {
      "cell_type": "markdown",
      "metadata": {
        "id": "HxquiokEu0cG",
        "colab_type": "text"
      },
      "source": [
        "**Evaluating** K-Cross Validation Score"
      ]
    },
    {
      "cell_type": "code",
      "metadata": {
        "id": "cZIbgstcu8DL",
        "colab_type": "code",
        "colab": {
          "base_uri": "https://localhost:8080/",
          "height": 50
        },
        "outputId": "afc3e7b1-c3ca-4961-9b8d-e68630d5a2d4"
      },
      "source": [
        "from sklearn.model_selection import cross_val_score\n",
        "accuracy_lr = cross_val_score(classifier_lr, x_train_sc, y_train, cv=10 )\n",
        "print( 'Accuracy:{:.2f}%'.format(accuracy_lr.mean()*100))\n",
        "print( 'Standard Deviation: {:.2f}%'.format(accuracy_lr.std()*100))"
      ],
      "execution_count": 36,
      "outputs": [
        {
          "output_type": "stream",
          "text": [
            "Accuracy:98.27%\n",
            "Standard Deviation: 0.76%\n"
          ],
          "name": "stdout"
        }
      ]
    },
    {
      "cell_type": "markdown",
      "metadata": {
        "id": "j6LgQZW7hfPa",
        "colab_type": "text"
      },
      "source": [
        "**K Nearest Neighbors**\n"
      ]
    },
    {
      "cell_type": "code",
      "metadata": {
        "id": "IOuXFJ8vuGNs",
        "colab_type": "code",
        "colab": {}
      },
      "source": [
        "from sklearn.neighbors import KNeighborsClassifier\n",
        "classifier_knn = KNeighborsClassifier(n_neighbors = 5, metric = 'minkowski',p=2)\n",
        "classifier_knn.fit(x_train_sc,y_train)\n",
        "\n",
        "y_predict_knn = classifier_knn.predict(x_test_sc)"
      ],
      "execution_count": 0,
      "outputs": []
    },
    {
      "cell_type": "markdown",
      "metadata": {
        "id": "bU-_r4aEvrEz",
        "colab_type": "text"
      },
      "source": [
        "**Evaluating** K Nearest Neighbors"
      ]
    },
    {
      "cell_type": "code",
      "metadata": {
        "id": "eBr9F47jvz0Y",
        "colab_type": "code",
        "outputId": "218c3043-e991-4904-8829-4385ac624826",
        "colab": {
          "base_uri": "https://localhost:8080/",
          "height": 67
        }
      },
      "source": [
        "cm_knn = confusion_matrix(y_test, y_predict_knn)\n",
        "print(cm_knn)\n",
        "accuracy_score(y_test,y_predict_knn)"
      ],
      "execution_count": 15,
      "outputs": [
        {
          "output_type": "stream",
          "text": [
            "[[159   1]\n",
            " [  0 115]]\n"
          ],
          "name": "stdout"
        },
        {
          "output_type": "execute_result",
          "data": {
            "text/plain": [
              "0.9963636363636363"
            ]
          },
          "metadata": {
            "tags": []
          },
          "execution_count": 15
        }
      ]
    },
    {
      "cell_type": "code",
      "metadata": {
        "id": "GIJdmSVp_y9o",
        "colab_type": "code",
        "outputId": "67cfbd44-8d90-4247-8ca6-7cb207fc8d85",
        "colab": {
          "base_uri": "https://localhost:8080/",
          "height": 34
        }
      },
      "source": [
        "auc_score_knn = roc_auc_score(y_test,y_predict_knn)\n",
        "print(auc_score_knn)"
      ],
      "execution_count": 16,
      "outputs": [
        {
          "output_type": "stream",
          "text": [
            "0.9968750000000001\n"
          ],
          "name": "stdout"
        }
      ]
    },
    {
      "cell_type": "markdown",
      "metadata": {
        "id": "0y3f6epGuhZW",
        "colab_type": "text"
      },
      "source": [
        "**Evaluating** K-Cross Validation Score"
      ]
    },
    {
      "cell_type": "code",
      "metadata": {
        "id": "S_fyLq_UsIxk",
        "colab_type": "code",
        "colab": {
          "base_uri": "https://localhost:8080/",
          "height": 50
        },
        "outputId": "d10f9454-cc67-48a9-9325-e3b87bf4a49b"
      },
      "source": [
        "from sklearn.model_selection import cross_val_score\n",
        "accuracy_knn = cross_val_score(classifier_knn, x_train_sc, y_train, cv=10 )\n",
        "print( 'Accuracy:{:.2f}%'.format(accuracy_knn.mean()*100))\n",
        "print( 'Standard Deviation: {:.2f}%'.format(accuracy_knn.std()*100))"
      ],
      "execution_count": 35,
      "outputs": [
        {
          "output_type": "stream",
          "text": [
            "Accuracy:99.82%\n",
            "Standard Deviation: 0.37%\n"
          ],
          "name": "stdout"
        }
      ]
    },
    {
      "cell_type": "markdown",
      "metadata": {
        "id": "qinvnlfZhOnM",
        "colab_type": "text"
      },
      "source": [
        "**Support Vector Machines (Kernel SVM)**"
      ]
    },
    {
      "cell_type": "code",
      "metadata": {
        "id": "U9E9wH0pwPdZ",
        "colab_type": "code",
        "colab": {}
      },
      "source": [
        "from sklearn.svm import SVC\n",
        "classifier_svm = SVC(kernel ='rbf', random_state = 20)\n",
        "classifier_svm.fit(x_train_sc,y_train)\n",
        "\n",
        "y_predict_svm = classifier_svm.predict(x_test_sc)\n"
      ],
      "execution_count": 0,
      "outputs": []
    },
    {
      "cell_type": "markdown",
      "metadata": {
        "id": "CKhqheDezpU6",
        "colab_type": "text"
      },
      "source": [
        "**Evaluating** Kernel SVM"
      ]
    },
    {
      "cell_type": "code",
      "metadata": {
        "id": "PhndG3hZzty5",
        "colab_type": "code",
        "outputId": "40a1abd4-ee85-43f2-9991-ff41d7daa970",
        "colab": {
          "base_uri": "https://localhost:8080/",
          "height": 67
        }
      },
      "source": [
        "cm_svm = confusion_matrix(y_test,y_predict_svm)\n",
        "print(cm_svm)\n",
        "accuracy_score(y_test,y_predict_svm)"
      ],
      "execution_count": 47,
      "outputs": [
        {
          "output_type": "stream",
          "text": [
            "[[158   2]\n",
            " [  0 115]]\n"
          ],
          "name": "stdout"
        },
        {
          "output_type": "execute_result",
          "data": {
            "text/plain": [
              "0.9927272727272727"
            ]
          },
          "metadata": {
            "tags": []
          },
          "execution_count": 47
        }
      ]
    },
    {
      "cell_type": "code",
      "metadata": {
        "id": "SL69r8FJ_69D",
        "colab_type": "code",
        "outputId": "a7403a94-fc5f-4568-da19-f22778e6f5ca",
        "colab": {
          "base_uri": "https://localhost:8080/",
          "height": 34
        }
      },
      "source": [
        "auc_score_svm = roc_auc_score(y_test,y_predict_svm)\n",
        "print(auc_score_svm)"
      ],
      "execution_count": 48,
      "outputs": [
        {
          "output_type": "stream",
          "text": [
            "0.99375\n"
          ],
          "name": "stdout"
        }
      ]
    },
    {
      "cell_type": "markdown",
      "metadata": {
        "colab_type": "text",
        "id": "4DvrDTzGu16T"
      },
      "source": [
        "**Evaluating** K-Cross Validation Score"
      ]
    },
    {
      "cell_type": "code",
      "metadata": {
        "id": "egCocCT4wWRq",
        "colab_type": "code",
        "colab": {
          "base_uri": "https://localhost:8080/",
          "height": 50
        },
        "outputId": "bb7d5957-4ecd-4c24-91a2-ddad5012b596"
      },
      "source": [
        "accuracy_svm = cross_val_score(classifier_svm, x_train_sc, y_train, cv=10 )\n",
        "print( 'Accuracy:{:.2f}%'.format(accuracy_svm.mean()*100))\n",
        "print( 'Standard Deviation: {:.2f}%'.format(accuracy_svm.std()*100))"
      ],
      "execution_count": 49,
      "outputs": [
        {
          "output_type": "stream",
          "text": [
            "Accuracy:100.00%\n",
            "Standard Deviation: 0.00%\n"
          ],
          "name": "stdout"
        }
      ]
    },
    {
      "cell_type": "markdown",
      "metadata": {
        "id": "K5r-WmuBhOtM",
        "colab_type": "text"
      },
      "source": [
        "**Naive-Bayes Classification**"
      ]
    },
    {
      "cell_type": "code",
      "metadata": {
        "id": "M65M-ZKf0ReA",
        "colab_type": "code",
        "colab": {}
      },
      "source": [
        "from sklearn.naive_bayes import GaussianNB\n",
        "classifier_nb = GaussianNB()\n",
        "classifier_nb.fit(x_train_sc, y_train)\n",
        "\n",
        "y_predict_nb = classifier_nb.predict(x_test_sc)"
      ],
      "execution_count": 0,
      "outputs": []
    },
    {
      "cell_type": "markdown",
      "metadata": {
        "id": "NFYlNyAj0143",
        "colab_type": "text"
      },
      "source": [
        "**Evaluating** Naive Bayes"
      ]
    },
    {
      "cell_type": "code",
      "metadata": {
        "id": "w2TGzEdt05AF",
        "colab_type": "code",
        "outputId": "64a13cd9-fe49-4824-fde5-70f2fe25d1d4",
        "colab": {
          "base_uri": "https://localhost:8080/",
          "height": 67
        }
      },
      "source": [
        "cm_nb = confusion_matrix(y_test, y_predict_nb)\n",
        "print (cm_nb)\n",
        "accuracy_score(y_test, y_predict_nb)"
      ],
      "execution_count": 21,
      "outputs": [
        {
          "output_type": "stream",
          "text": [
            "[[145  15]\n",
            " [ 20  95]]\n"
          ],
          "name": "stdout"
        },
        {
          "output_type": "execute_result",
          "data": {
            "text/plain": [
              "0.8727272727272727"
            ]
          },
          "metadata": {
            "tags": []
          },
          "execution_count": 21
        }
      ]
    },
    {
      "cell_type": "code",
      "metadata": {
        "id": "ad_3r38IAArs",
        "colab_type": "code",
        "outputId": "3da67794-0f01-45ae-caba-56bfa78e74ad",
        "colab": {
          "base_uri": "https://localhost:8080/",
          "height": 34
        }
      },
      "source": [
        "auc_score_nb = roc_auc_score(y_test,y_predict_nb)\n",
        "print(auc_score_nb)"
      ],
      "execution_count": 22,
      "outputs": [
        {
          "output_type": "stream",
          "text": [
            "0.8661684782608696\n"
          ],
          "name": "stdout"
        }
      ]
    },
    {
      "cell_type": "markdown",
      "metadata": {
        "id": "CObPy4vLu5sY",
        "colab_type": "text"
      },
      "source": [
        "**Evaluating** K-Cross Validation Score"
      ]
    },
    {
      "cell_type": "code",
      "metadata": {
        "id": "9weQrQkYwzGr",
        "colab_type": "code",
        "colab": {
          "base_uri": "https://localhost:8080/",
          "height": 50
        },
        "outputId": "2584f99f-f573-47fb-893b-8a9058fe060d"
      },
      "source": [
        "accuracy_nb = cross_val_score(classifier_nb, x_train_sc, y_train, cv=10 )\n",
        "print( 'Accuracy:{:.2f}%'.format(accuracy_nb.mean()*100))\n",
        "print( 'Standard Deviation: {:.2f}%'.format(accuracy_nb.std()*100))"
      ],
      "execution_count": 40,
      "outputs": [
        {
          "output_type": "stream",
          "text": [
            "Accuracy:83.21%\n",
            "Standard Deviation: 4.14%\n"
          ],
          "name": "stdout"
        }
      ]
    },
    {
      "cell_type": "markdown",
      "metadata": {
        "id": "6WCz86-GhOvV",
        "colab_type": "text"
      },
      "source": [
        "**Decision Tree Classification**"
      ]
    },
    {
      "cell_type": "code",
      "metadata": {
        "id": "YBcsU6LE2spd",
        "colab_type": "code",
        "colab": {}
      },
      "source": [
        "from sklearn.tree import DecisionTreeClassifier\n",
        "classifier_dt = DecisionTreeClassifier(criterion='entropy',random_state=0)\n",
        "classifier_dt.fit(x_train_sc, y_train)\n",
        "\n",
        "y_predict_dt = classifier_dt.predict(x_test_sc)"
      ],
      "execution_count": 0,
      "outputs": []
    },
    {
      "cell_type": "markdown",
      "metadata": {
        "id": "YXrhBzU828Of",
        "colab_type": "text"
      },
      "source": [
        "**Evaluating** Decision Tree Classifier"
      ]
    },
    {
      "cell_type": "code",
      "metadata": {
        "id": "Hh6W32xE3AOP",
        "colab_type": "code",
        "outputId": "8149ab46-a467-46fa-c879-a87a57026d8c",
        "colab": {
          "base_uri": "https://localhost:8080/",
          "height": 67
        }
      },
      "source": [
        "cm_dt = confusion_matrix(y_test, y_predict_dt)\n",
        "print (cm_dt)\n",
        "accuracy_score(y_test, y_predict_dt)"
      ],
      "execution_count": 24,
      "outputs": [
        {
          "output_type": "stream",
          "text": [
            "[[154   6]\n",
            " [  1 114]]\n"
          ],
          "name": "stdout"
        },
        {
          "output_type": "execute_result",
          "data": {
            "text/plain": [
              "0.9745454545454545"
            ]
          },
          "metadata": {
            "tags": []
          },
          "execution_count": 24
        }
      ]
    },
    {
      "cell_type": "code",
      "metadata": {
        "id": "apnTJ8wVAGIT",
        "colab_type": "code",
        "outputId": "c0176be5-e97b-41bb-dfca-9d4f5d99f537",
        "colab": {
          "base_uri": "https://localhost:8080/",
          "height": 34
        }
      },
      "source": [
        "auc_score_dt = roc_auc_score(y_test,y_predict_dt)\n",
        "print(auc_score_dt)"
      ],
      "execution_count": 25,
      "outputs": [
        {
          "output_type": "stream",
          "text": [
            "0.9769021739130436\n"
          ],
          "name": "stdout"
        }
      ]
    },
    {
      "cell_type": "markdown",
      "metadata": {
        "id": "mIBTVRDHu5z3",
        "colab_type": "text"
      },
      "source": [
        "**Evaluating** K-Cross Validation Score"
      ]
    },
    {
      "cell_type": "code",
      "metadata": {
        "id": "TSU_bCq5xHaV",
        "colab_type": "code",
        "colab": {
          "base_uri": "https://localhost:8080/",
          "height": 50
        },
        "outputId": "79c620b2-d3a7-486b-8b04-85a7a4126296"
      },
      "source": [
        "accuracy_dt = cross_val_score(classifier_dt, x_train_sc, y_train, cv=10 )\n",
        "print( 'Accuracy:{:.2f}%'.format(accuracy_dt.mean()*100))\n",
        "print( 'Standard Deviation: {:.2f}%'.format(accuracy_dt.std()*100))"
      ],
      "execution_count": 41,
      "outputs": [
        {
          "output_type": "stream",
          "text": [
            "Accuracy:98.54%\n",
            "Standard Deviation: 0.84%\n"
          ],
          "name": "stdout"
        }
      ]
    },
    {
      "cell_type": "markdown",
      "metadata": {
        "id": "yiIAmp8ihOqz",
        "colab_type": "text"
      },
      "source": [
        "**Random Forest Classification**"
      ]
    },
    {
      "cell_type": "code",
      "metadata": {
        "id": "KdVndG061lJ8",
        "colab_type": "code",
        "colab": {}
      },
      "source": [
        "from sklearn.ensemble import RandomForestClassifier\n",
        "classifier_rf = RandomForestClassifier(n_estimators=100, criterion='entropy',random_state=0)\n",
        "classifier_rf.fit(x_train_sc, y_train)\n",
        "\n",
        "y_predict_rf = classifier_rf.predict(x_test_sc)"
      ],
      "execution_count": 0,
      "outputs": []
    },
    {
      "cell_type": "markdown",
      "metadata": {
        "id": "1A-IUAp42INW",
        "colab_type": "text"
      },
      "source": [
        "**Evaluating** Random Forest Classifier"
      ]
    },
    {
      "cell_type": "code",
      "metadata": {
        "id": "QaNoMsbH2I6j",
        "colab_type": "code",
        "outputId": "8a19a85a-d923-451c-fc7a-f3a2f2ae25ca",
        "colab": {
          "base_uri": "https://localhost:8080/",
          "height": 67
        }
      },
      "source": [
        "cm_rf = confusion_matrix(y_test, y_predict_rf)\n",
        "print (cm_rf)\n",
        "accuracy_score(y_test, y_predict_rf)"
      ],
      "execution_count": 27,
      "outputs": [
        {
          "output_type": "stream",
          "text": [
            "[[157   3]\n",
            " [  0 115]]\n"
          ],
          "name": "stdout"
        },
        {
          "output_type": "execute_result",
          "data": {
            "text/plain": [
              "0.9890909090909091"
            ]
          },
          "metadata": {
            "tags": []
          },
          "execution_count": 27
        }
      ]
    },
    {
      "cell_type": "code",
      "metadata": {
        "id": "SUiOMHFTAKg2",
        "colab_type": "code",
        "outputId": "13464e7c-48ee-4def-850e-a85c5fc45a63",
        "colab": {
          "base_uri": "https://localhost:8080/",
          "height": 34
        }
      },
      "source": [
        "auc_score_rf = roc_auc_score(y_test,y_predict_rf)\n",
        "print(auc_score_rf)"
      ],
      "execution_count": 28,
      "outputs": [
        {
          "output_type": "stream",
          "text": [
            "0.990625\n"
          ],
          "name": "stdout"
        }
      ]
    },
    {
      "cell_type": "markdown",
      "metadata": {
        "id": "TBA2cv1Nu0q7",
        "colab_type": "text"
      },
      "source": [
        "**Evaluating** K-Cross Validation Score"
      ]
    },
    {
      "cell_type": "code",
      "metadata": {
        "id": "_lJeXzHYxUhL",
        "colab_type": "code",
        "colab": {
          "base_uri": "https://localhost:8080/",
          "height": 50
        },
        "outputId": "dad05e84-7dc7-41a8-f29c-f84c4c8c14ad"
      },
      "source": [
        "accuracy_rf = cross_val_score(classifier_rf, x_train_sc, y_train, cv=10 )\n",
        "print( 'Accuracy:{:.2f}%'.format(accuracy_rf.mean()*100))\n",
        "print( 'Standard Deviation: {:.2f}%'.format(accuracy_rf.std()*100))"
      ],
      "execution_count": 42,
      "outputs": [
        {
          "output_type": "stream",
          "text": [
            "Accuracy:99.18%\n",
            "Standard Deviation: 0.64%\n"
          ],
          "name": "stdout"
        }
      ]
    },
    {
      "cell_type": "markdown",
      "metadata": {
        "id": "Qtn3qYETxT8R",
        "colab_type": "text"
      },
      "source": [
        "**Neural Network Classifier**\n",
        "\n",
        "P.S. This is just for fun!"
      ]
    },
    {
      "cell_type": "code",
      "metadata": {
        "id": "7LyLF85dxY_8",
        "colab_type": "code",
        "colab": {}
      },
      "source": [
        "from sklearn.neural_network import MLPClassifier\n",
        "classifier_neural_network = MLPClassifier(random_state=0)\n",
        "classifier_neural_network.fit(x_train_sc,y_train)\n",
        "\n",
        "y_predict_neural_network = classifier_neural_network.predict(x_test_sc)"
      ],
      "execution_count": 0,
      "outputs": []
    },
    {
      "cell_type": "markdown",
      "metadata": {
        "id": "5CpB-N9kyCFv",
        "colab_type": "text"
      },
      "source": [
        "**Evaluating** Neural Network"
      ]
    },
    {
      "cell_type": "code",
      "metadata": {
        "id": "dFWjUGjfyE47",
        "colab_type": "code",
        "outputId": "c340dd37-adcd-4cbd-be02-9fd28415d39c",
        "colab": {
          "base_uri": "https://localhost:8080/",
          "height": 67
        }
      },
      "source": [
        "cm_neural_network = confusion_matrix(y_test, y_predict_neural_network) \n",
        "print(cm_neural_network)\n",
        "accuracy_score(y_test, y_predict_neural_network)"
      ],
      "execution_count": 30,
      "outputs": [
        {
          "output_type": "stream",
          "text": [
            "[[158   2]\n",
            " [  0 115]]\n"
          ],
          "name": "stdout"
        },
        {
          "output_type": "execute_result",
          "data": {
            "text/plain": [
              "0.9927272727272727"
            ]
          },
          "metadata": {
            "tags": []
          },
          "execution_count": 30
        }
      ]
    },
    {
      "cell_type": "code",
      "metadata": {
        "id": "hkRmK0J4AP9m",
        "colab_type": "code",
        "outputId": "f31979c7-6dd5-4066-f8ee-0892d2adeea1",
        "colab": {
          "base_uri": "https://localhost:8080/",
          "height": 34
        }
      },
      "source": [
        "auc_score_neural_network = roc_auc_score(y_test,y_predict_neural_network)\n",
        "print(auc_score_neural_network)"
      ],
      "execution_count": 31,
      "outputs": [
        {
          "output_type": "stream",
          "text": [
            "0.99375\n"
          ],
          "name": "stdout"
        }
      ]
    },
    {
      "cell_type": "markdown",
      "metadata": {
        "id": "Tson8pMCu455",
        "colab_type": "text"
      },
      "source": [
        "**Evaluating** K-Cross Validation Score"
      ]
    },
    {
      "cell_type": "code",
      "metadata": {
        "id": "0ckFfOFZxhYH",
        "colab_type": "code",
        "colab": {
          "base_uri": "https://localhost:8080/",
          "height": 50
        },
        "outputId": "ca50eb73-b79b-4bf0-e4dc-8a8f233372df"
      },
      "source": [
        "accuracy_neural_network = cross_val_score(classifier_neural_network, x_train_sc, y_train, cv=10 )\n",
        "print( 'Accuracy:{:.2f}%'.format(accuracy_neural_network.mean()*100))\n",
        "print( 'Standard Deviation: {:.2f}%'.format(accuracy_neural_network.std()*100))"
      ],
      "execution_count": 43,
      "outputs": [
        {
          "output_type": "stream",
          "text": [
            "Accuracy:100.00%\n",
            "Standard Deviation: 0.00%\n"
          ],
          "name": "stdout"
        }
      ]
    },
    {
      "cell_type": "markdown",
      "metadata": {
        "id": "rG-Nafnv3oAO",
        "colab_type": "text"
      },
      "source": [
        "\n",
        "*Neural Network* model as well as *Kernel SVM* gave us the best overall accuracy of 99.27% !!"
      ]
    },
    {
      "cell_type": "markdown",
      "metadata": {
        "id": "-zJVFAlIyogg",
        "colab_type": "text"
      },
      "source": [
        "Well, no tuning is necessary as the accuracy has already pretty much reached the maximum."
      ]
    }
  ]
}
